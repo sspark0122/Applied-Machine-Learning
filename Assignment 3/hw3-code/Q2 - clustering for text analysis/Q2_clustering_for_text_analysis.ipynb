{
 "cells": [
  {
   "cell_type": "code",
   "execution_count": 48,
   "metadata": {
    "scrolled": true
   },
   "outputs": [
    {
     "data": {
      "image/png": "[encoded data removed]",
      "text/plain": [
       "<Figure size 432x288 with 1 Axes>"
      ]
     },
     "metadata": {},
     "output_type": "display_data"
    }
   ],
   "source": [
    "# Q2-a: Clustering for text analysis - capture Document\n",
    "import numpy as np\n",
    "from matplotlib import pyplot\n",
    "from sklearn.cluster import KMeans\n",
    "\n",
    "# Read the file\n",
    "data = np.load(\"science2k-doc-word.npy\")\n",
    "k = 4\n",
    "\n",
    "# Reference: http://fromdatawithlove.thegovans.us/2013/05/clustering-using-scikit-learn.html\n",
    "# Initialize K-means and test various values of k\n",
    "def initialize_KMeans(k):\n",
    "    model = KMeans(n_clusters=k)\n",
    "    model.fit(data)\n",
    "    labels = model.labels_\n",
    "    centroids = model.cluster_centers_\n",
    "    return model, labels, centroids\n",
    "\n",
    "# Keep plotting the clusters and centroid until the members of the clusters no longer change.\n",
    "def plot_clusters_centroids(data, k, labels, centroids):\n",
    "    for i in range(k):\n",
    "        # select only data observations with cluster label == i\n",
    "        ds = data[np.where(labels==i)]\n",
    "        # plot the data observations\n",
    "        pyplot.plot(ds[:,0],ds[:,1],'o')\n",
    "        # plot the centroids\n",
    "        lines = pyplot.plot(centroids[i,0],centroids[i,1],'kx')\n",
    "        # make the centroid x's bigger\n",
    "        pyplot.setp(lines,ms=15.0)\n",
    "        pyplot.setp(lines,mew=2.0)\n",
    "    pyplot.show()\n",
    "\n",
    "model, labels, centroids = initialize_KMeans(k)\n",
    "plot_clusters_centroids(data, k, labels, centroids)"
   ]
  },
  {
   "cell_type": "code",
   "execution_count": 49,
   "metadata": {
    "scrolled": false
   },
   "outputs": [],
   "source": [
    "# Reference: \n",
    "# https://stackoverflow.com/questions/26795535/output-50-samples-closest-to-each-cluster-center-using-scikit-learn-k-means-libr\n",
    "# https://mubaris.com/posts/kmeans-clustering/\n",
    "\n",
    "# Find the closest indices to each cluster center\n",
    "def get_closest_indices_to_centroids(model, k):\n",
    "    indices_list = []\n",
    "    for i in range(k):\n",
    "        # The distance to the i'th centroid for each point in an array data\n",
    "        distance = model.transform(data)[:, i]\n",
    "        # The indices of the 10 closest to i'th centroid\n",
    "        indices = np.argsort(distance)[::][:10]\n",
    "        indices_list.append(indices)\n",
    "        \n",
    "    return indices_list\n",
    "\n",
    "# Find the largest positive distance from the average value across all data.\n",
    "def get_largest_indices_to_centroids(model, k):\n",
    "    indices_list = []\n",
    "    for i in range(k):\n",
    "        # The distance to the i'th centroid for each point in an array data\n",
    "        distance = model.transform(data)[:, i]\n",
    "        # The indices of the 10 closest to i'th centroid\n",
    "        indices = np.argsort(distance)[::-1][:10]\n",
    "        indices_list.append(indices)\n",
    "        \n",
    "    return indices_list\n",
    "\n",
    "indices_list_word = get_largest_indices_to_centroids(model, k)\n",
    "indices_list_title = get_closest_indices_to_centroids(model, k)"
   ]
  },
  {
   "cell_type": "code",
   "execution_count": 50,
   "metadata": {
    "scrolled": true
   },
   "outputs": [
    {
     "name": "stdout",
     "output_type": "stream",
     "text": [
      "[Top 10 words of each cluster in order of the largest positive distance from the average value across all data.]\n",
      "\n",
      "Top 10 of cluster #1: \n",
      "identity\n",
      "antibody\n",
      "multiple\n",
      "local\n",
      "interference\n",
      "understanding\n",
      "sex\n",
      "stimulus\n",
      "structural\n",
      "measurement\n",
      "\n",
      "Top 10 of cluster #2: \n",
      "local\n",
      "antibody\n",
      "natl\n",
      "stimulus\n",
      "spin\n",
      "sex\n",
      "spectrum\n",
      "bound\n",
      "project\n",
      "mutations\n",
      "\n",
      "Top 10 of cluster #3: \n",
      "local\n",
      "antibody\n",
      "multiple\n",
      "identity\n",
      "stimulus\n",
      "interference\n",
      "structural\n",
      "natl\n",
      "mutations\n",
      "spectrum\n",
      "\n",
      "Top 10 of cluster #4: \n",
      "antibody\n",
      "local\n",
      "stimulus\n",
      "natl\n",
      "identity\n",
      "multiple\n",
      "sex\n",
      "mutations\n",
      "interference\n",
      "spin\n",
      "\n",
      "[Top ten documents that fall closest to each cluster center.]\n",
      "\n",
      "Top 10 of cluster #1: \n",
      "\"Requirement of NAD and SIR2 for Life-Span Extension by Calorie Restriction in Saccharomyces Cerevisiae\"\n",
      "\"Suppression of Mutations in Mitochondrial DNA by tRNAs Imported from the Cytoplasm\"\n",
      "\"Thermal, Catalytic, Regiospecific Functionalization of Alkanes\"\n",
      "\"Algorithmic Gladiators Vie for Digital Glory\"\n",
      "\"Similar Requirements of a Plant Symbiont and a Mammalian Pathogen for Prolonged Intracellular Survival\"\n",
      "\"Mothers Setting Boundaries\"\n",
      "\"Reopening the Darkest Chapter in German Science\"\n",
      "\"Distinct Classes of Yeast Promoters Revealed by Differential TAF Recruitment\"\n",
      "\"Turning up the Heat on Histoplasma capsulatum\"\n",
      "\"An Arresting Start for MAPK\"\n",
      "\n",
      "Top 10 of cluster #2: \n",
      "\"Information Technology Takes a Different Tack\"\n",
      "\"Algorithmic Gladiators Vie for Digital Glory\"\n",
      "\"Reopening the Darkest Chapter in German Science\"\n",
      "\"Archaeology in the Holy Land\"\n",
      "\"Heretical Idea Faces Its Sternest Test\"\n",
      "\"National Academy of Sciences Elects New Members\"\n",
      "\"Baedeker's Guide, or Just Plain 'Trouble'?\"\n",
      "\"Divining Diet and Disease from DNA\"\n",
      "\"Science Survives in Breakthrough States\"\n",
      "\"Vaccine Studies Stymied by Shortage of Animals\"\n",
      "\n",
      "Top 10 of cluster #3: \n",
      "\"The Formation of Chondrules at High Gas Pressures in the Solar Nebula\"\n",
      "\"Algorithmic Gladiators Vie for Digital Glory\"\n",
      "\"Reopening the Darkest Chapter in German Science\"\n",
      "\"Heretical Idea Faces Its Sternest Test\"\n",
      "\"Thermal, Catalytic, Regiospecific Functionalization of Alkanes\"\n",
      "\"Corrections and Clarifications: A Short Fe-Fe Distance in Peroxodiferric Ferritin: Control of Fe Substrate versus Cofactor Decay?\"\n",
      "\"Corrections and Clarifications: Charon's First Detailed Spectra Hold Many Surprises\"\n",
      "\"Corrections and Clarifications: Unearthing Monuments of the Yarmukians\"\n",
      "\"Population Dynamical Consequences of Climate Change for a Small Temperate Songbird\"\n",
      "\"Nitric Acid Trihydrate (NAT) in Polar Stratospheric Clouds\"\n",
      "\n",
      "Top 10 of cluster #4: \n",
      "\"Algorithmic Gladiators Vie for Digital Glory\"\n",
      "\"Reopening the Darkest Chapter in German Science\"\n",
      "\"National Academy of Sciences Elects New Members\"\n",
      "\"Corrections and Clarifications: A Short Fe-Fe Distance in Peroxodiferric Ferritin: Control of Fe Substrate versus Cofactor Decay?\"\n",
      "\"Corrections and Clarifications: Charon's First Detailed Spectra Hold Many Surprises\"\n",
      "\"Corrections and Clarifications: Unearthing Monuments of the Yarmukians\"\n",
      "\"Heretical Idea Faces Its Sternest Test\"\n",
      "\"Archaeology in the Holy Land\"\n",
      "\"Corrections and Clarifications: One Hundred Years of Quantum Physics\"\n",
      "\"Corrections and Clarifications: Biotech Research Proves a Draw in Canada\"\n"
     ]
    }
   ],
   "source": [
    "def get_top10_to_centroids(fileName, indices_list):\n",
    "    items = open(fileName, \"r\")    \n",
    "    item_list = []\n",
    "    for item in items:\n",
    "        new_item = item.rstrip()\n",
    "        item_list.append(new_item)\n",
    "        \n",
    "    counter = 1\n",
    "    for indices in indices_list:\n",
    "        print('\\nTop 10 of cluster #' + str(counter) + ': ')\n",
    "        for index in indices:\n",
    "            print(item_list[int(index)])\n",
    "        counter += 1\n",
    "\n",
    "print('[Top 10 words of each cluster in order of the largest positive distance from the average value across all data.]')\n",
    "get_top10_to_centroids(\"science2k-vocab.txt\", indices_list_word)\n",
    "print('\\n[Top ten documents that fall closest to each cluster center.]')\n",
    "get_top10_to_centroids(\"science2k-titles.txt\", indices_list_title)"
   ]
  },
  {
   "cell_type": "code",
   "execution_count": 53,
   "metadata": {
    "scrolled": true
   },
   "outputs": [
    {
     "data": {
      "image/png": "[encoded data removed]",
      "text/plain": [
       "<Figure size 432x288 with 1 Axes>"
      ]
     },
     "metadata": {},
     "output_type": "display_data"
    }
   ],
   "source": [
    "# Q2-b: Clustering for text analysis - capture Term\n",
    "# Read the file\n",
    "dataTerm = np.load(\"science2k-word-doc.npy\")\n",
    "kTerm = 4\n",
    "\n",
    "# Initialize K-means and test various values of k\n",
    "modelTerm, labelsTerm, centroidsTerm = initialize_KMeans(kTerm)\n",
    "\n",
    "# Keep plotting the clusters and centroid until the members of the clusters no longer change.\n",
    "plot_clusters_centroids(dataTerm, kTerm, labelsTerm, centroidsTerm)"
   ]
  },
  {
   "cell_type": "code",
   "execution_count": 54,
   "metadata": {
    "scrolled": true
   },
   "outputs": [
    {
     "name": "stdout",
     "output_type": "stream",
     "text": [
      "\n",
      "Top 10 of cluster #1: \n",
      "release\n",
      "expressing\n",
      "volume\n",
      "fig\n",
      "width\n",
      "cells\n",
      "obtained\n",
      "right\n",
      "mediated\n",
      "land\n",
      "\n",
      "Top 10 of cluster #2: \n",
      "expressing\n",
      "volume\n",
      "mediated\n",
      "states\n",
      "described\n",
      "receptor\n",
      "right\n",
      "release\n",
      "fig\n",
      "land\n",
      "\n",
      "Top 10 of cluster #3: \n",
      "hand\n",
      "exhibit\n",
      "cross\n",
      "expressing\n",
      "class\n",
      "volume\n",
      "able\n",
      "clock\n",
      "transgenic\n",
      "detect\n",
      "\n",
      "Top 10 of cluster #4: \n",
      "tail\n",
      "expressing\n",
      "volume\n",
      "right\n",
      "cross\n",
      "described\n",
      "receptor\n",
      "states\n",
      "second\n",
      "trend\n"
     ]
    }
   ],
   "source": [
    "# Find closest indices to each cluster center\n",
    "indicesTerm_list = get_closest_indices_to_centroids(modelTerm, kTerm)\n",
    "\n",
    "get_top10_to_centroids(\"science2k-vocab.txt\", indicesTerm_list)"
   ]
  }
 ],
 "metadata": {
  "kernelspec": {
   "display_name": "Python 3",
   "language": "python",
   "name": "python3"
  },
  "language_info": {
   "codemirror_mode": {
    "name": "ipython",
    "version": 3
   },
   "file_extension": ".py",
   "mimetype": "text/x-python",
   "name": "python",
   "nbconvert_exporter": "python",
   "pygments_lexer": "ipython3",
   "version": "3.6.5"
  }
 },
 "nbformat": 4,
 "nbformat_minor": 2
}
