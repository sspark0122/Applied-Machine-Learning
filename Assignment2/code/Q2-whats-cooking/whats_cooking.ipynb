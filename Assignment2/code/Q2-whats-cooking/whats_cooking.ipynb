{
 "cells": [
  {
   "cell_type": "code",
   "execution_count": 5,
   "metadata": {},
   "outputs": [
    {
     "name": "stdout",
     "output_type": "stream",
     "text": [
      "39774\n",
      "9944\n",
      "[{'id': 0,\n",
      "  'ingredients': ['mussels',\n",
      "                  'ground black pepper',\n",
      "                  'garlic cloves',\n",
      "                  'saffron threads',\n",
      "                  'olive oil',\n",
      "                  'stewed tomatoes',\n",
      "                  'arborio rice',\n",
      "                  'minced onion',\n",
      "                  'medium shrimp',\n",
      "                  'fat free less sodium chicken broth',\n",
      "                  'green peas']},\n",
      " {'id': 1,\n",
      "  'ingredients': ['tomatoes',\n",
      "                  'diced red onions',\n",
      "                  'paprika',\n",
      "                  'salt',\n",
      "                  'corn tortillas',\n",
      "                  'fresh cilantro',\n",
      "                  'cremini',\n",
      "                  'vegetable broth',\n",
      "                  'freshly ground pepper',\n",
      "                  'ground chipotle chile pepper',\n",
      "                  'bell pepper',\n",
      "                  'extra-virgin olive oil',\n",
      "                  'yellow onion',\n",
      "                  'ground cumin',\n",
      "                  'poblano peppers',\n",
      "                  'chili powder',\n",
      "                  'garlic',\n",
      "                  'pinto beans']},\n",
      " {'id': 2,\n",
      "  'ingredients': ['chicken broth',\n",
      "                  'truffles',\n",
      "                  'pimentos',\n",
      "                  'green pepper',\n",
      "                  'olives',\n",
      "                  'roast turkey',\n",
      "                  'egg yolks',\n",
      "                  'heavy cream',\n",
      "                  'tarragon leaves',\n",
      "                  'eggs',\n",
      "                  'flour',\n",
      "                  'butter',\n",
      "                  'scallions',\n",
      "                  'cold water',\n",
      "                  'unflavored gelatin',\n",
      "                  'leeks',\n",
      "                  'salt',\n",
      "                  'aspic']}]\n",
      "['spanish',\n",
      " 'mexican',\n",
      " 'french',\n",
      " 'chinese',\n",
      " 'italian',\n",
      " 'chinese',\n",
      " 'french',\n",
      " 'southern_us',\n",
      " 'chinese',\n",
      " 'italian']\n"
     ]
    }
   ],
   "source": [
    "# Load, parse and check data from train and test files\n",
    "\n",
    "import numpy as np\n",
    "import json\n",
    "import pprint\n",
    "pp = pprint.PrettyPrinter()\n",
    "\n",
    "# load datasets into script\n",
    "train_file = open(\"./whats_cooking/train.json\")\n",
    "test_file  = open(\"./whats_cooking/test.json\")\n",
    "train_data = json.load(train_file)\n",
    "test_data  = json.load(test_file)\n",
    "\n",
    "# sort lists according to id\n",
    "train_data.sort(key = lambda dish: dish[\"id\"])\n",
    "test_data.sort(key = lambda dish: dish[\"id\"])\n",
    "train_labels = []\n",
    "\n",
    "for i in range(len(train_data)):\n",
    "    train_labels.append(train_data[i][\"cuisine\"])\n",
    "    del train_data[i][\"cuisine\"]\n",
    "\n",
    "print(len(train_labels))\n",
    "print(len(test_data))\n",
    "\n",
    "pp.pprint(train_data[:3])\n",
    "pp.pprint(train_labels[:10])\n"
   ]
  },
  {
   "cell_type": "code",
   "execution_count": 6,
   "metadata": {},
   "outputs": [
    {
     "name": "stdout",
     "output_type": "stream",
     "text": [
      "# of samples in training set: 39774\n",
      "# of categories in training set: 6714\n",
      "# of unique ingredients in training set: 20\n"
     ]
    }
   ],
   "source": [
    "# Exercise 2 b, find out how many unique ingredients and cuisines\n",
    "# there are in train_dataset\n",
    "\n",
    "unique_ingredients = {}\n",
    "unique_cuisines = {}\n",
    "for i in range(len(train_data)):\n",
    "    dish = train_data[i]\n",
    "    if train_labels[i] not in unique_cuisines:\n",
    "        unique_cuisines[train_labels[i]] = True\n",
    "    for ingredient in dish[\"ingredients\"]:\n",
    "        if ingredient not in unique_ingredients:\n",
    "            unique_ingredients[ingredient] = True\n",
    "\n",
    "print('# of samples in training set: {}'.format(len(train_labels)))\n",
    "print('# of categories in training set: {}'.format(len(unique_ingredients)))\n",
    "print('# of unique ingredients in training set: {}'.format(len(unique_cuisines)))\n",
    "\n",
    "unique_features = np.array([feature for feature in unique_ingredients])\n",
    "unique_labels = np.array([cuisine for cuisine in unique_cuisines])\n",
    "\n",
    "# pp.pprint(unique_features[:10])"
   ]
  },
  {
   "cell_type": "code",
   "execution_count": 7,
   "metadata": {},
   "outputs": [
    {
     "name": "stdout",
     "output_type": "stream",
     "text": [
      "array([[1, 0, 0, 0, 0, 0, 0, 0, 0, 0, 0, 0, 0, 0, 0, 0, 0, 0, 0, 0],\n",
      "       [0, 1, 0, 0, 0, 0, 0, 0, 0, 0, 0, 0, 0, 0, 0, 0, 0, 0, 0, 0],\n",
      "       [0, 0, 1, 0, 0, 0, 0, 0, 0, 0, 0, 0, 0, 0, 0, 0, 0, 0, 0, 0],\n",
      "       [0, 0, 0, 1, 0, 0, 0, 0, 0, 0, 0, 0, 0, 0, 0, 0, 0, 0, 0, 0],\n",
      "       [0, 0, 0, 0, 1, 0, 0, 0, 0, 0, 0, 0, 0, 0, 0, 0, 0, 0, 0, 0],\n",
      "       [0, 0, 0, 0, 0, 1, 0, 0, 0, 0, 0, 0, 0, 0, 0, 0, 0, 0, 0, 0],\n",
      "       [0, 0, 0, 0, 0, 0, 1, 0, 0, 0, 0, 0, 0, 0, 0, 0, 0, 0, 0, 0],\n",
      "       [0, 0, 0, 0, 0, 0, 0, 1, 0, 0, 0, 0, 0, 0, 0, 0, 0, 0, 0, 0],\n",
      "       [0, 0, 0, 0, 0, 0, 0, 0, 1, 0, 0, 0, 0, 0, 0, 0, 0, 0, 0, 0],\n",
      "       [0, 0, 0, 0, 0, 0, 0, 0, 0, 1, 0, 0, 0, 0, 0, 0, 0, 0, 0, 0],\n",
      "       [0, 0, 0, 0, 0, 0, 0, 0, 0, 0, 1, 0, 0, 0, 0, 0, 0, 0, 0, 0],\n",
      "       [0, 0, 0, 0, 0, 0, 0, 0, 0, 0, 0, 1, 0, 0, 0, 0, 0, 0, 0, 0],\n",
      "       [0, 0, 0, 0, 0, 0, 0, 0, 0, 0, 0, 0, 1, 0, 0, 0, 0, 0, 0, 0],\n",
      "       [0, 0, 0, 0, 0, 0, 0, 0, 0, 0, 0, 0, 0, 1, 0, 0, 0, 0, 0, 0],\n",
      "       [0, 0, 0, 0, 0, 0, 0, 0, 0, 0, 0, 0, 0, 0, 1, 0, 0, 0, 0, 0],\n",
      "       [0, 0, 0, 0, 0, 0, 0, 0, 0, 0, 0, 0, 0, 0, 0, 1, 0, 0, 0, 0],\n",
      "       [0, 0, 0, 0, 0, 0, 0, 0, 0, 0, 0, 0, 0, 0, 0, 0, 1, 0, 0, 0],\n",
      "       [0, 0, 0, 0, 0, 0, 0, 0, 0, 0, 0, 0, 0, 0, 0, 0, 0, 1, 0, 0],\n",
      "       [0, 0, 0, 0, 0, 0, 0, 0, 0, 0, 0, 0, 0, 0, 0, 0, 0, 0, 1, 0],\n",
      "       [0, 0, 0, 0, 0, 0, 0, 0, 0, 0, 0, 0, 0, 0, 0, 0, 0, 0, 0, 1]])\n",
      "20\n",
      "spanish\n"
     ]
    }
   ],
   "source": [
    "# Exercise 2 c, convert all dishes cuisines into codes for model training\n",
    "\n",
    "# word_labels = np.array([i for i in unique_labels])\n",
    "# label_codes = {}\n",
    "label_codes = []\n",
    "\n",
    "for label in unique_labels:\n",
    "    label = ( unique_labels == label ).astype(int)\n",
    "    label_codes.append(label)\n",
    "#     label_codes[word] = label\n",
    "\n",
    "label_codes = np.array(label_codes)\n",
    "\n",
    "pp.pprint(label_codes)\n",
    "print(len(label_codes))\n",
    "\n",
    "print(unique_labels[np.argmax(label_codes[0])])"
   ]
  },
  {
   "cell_type": "code",
   "execution_count": 12,
   "metadata": {},
   "outputs": [
    {
     "name": "stdout",
     "output_type": "stream",
     "text": [
      "array([1, 0, 0, ..., 0, 0, 0])\n",
      "6714   6714\n",
      "mussels\n"
     ]
    }
   ],
   "source": [
    "# Exercise 2 c, convert all dishes ingredients into \"bag of words\" style\n",
    "# binary 1x6714 vectors\n",
    "\n",
    "feature_codes = []\n",
    "\n",
    "for feature in unique_features:\n",
    "    feature_code = ( unique_features == feature ).astype(int)\n",
    "    feature_codes.append(feature_code)\n",
    "\n",
    "feature_codes = np.array(feature_codes)\n",
    "\n",
    "pp.pprint(feature_codes[0])\n",
    "print(len(feature_codes), \" \", len(feature_codes[0]))\n",
    "\n",
    "print(unique_features[np.argmax(feature_codes[0])])"
   ]
  },
  {
   "cell_type": "code",
   "execution_count": 13,
   "metadata": {},
   "outputs": [],
   "source": [
    "# assemble data matrix X and label matrix label(if applicable) \n",
    "# for sklearn use\n",
    "def MLify(data, targets=None):\n",
    "    X = []\n",
    "    if targets != None:\n",
    "        labels = []\n",
    "\n",
    "    # for every item in data, \n",
    "    # 1) encode ingredients into a row of X\n",
    "    # 2) encode item label into one vs all format\n",
    "    for i in range(len(data)):\n",
    "        X.append(np.array([0 for j in range(len(unique_features))]))\n",
    "        if targets != None:\n",
    "            labels.append( (unique_labels == targets[i]).astype(int) )\n",
    "        for ingredient in data[i][\"ingredients\"]:\n",
    "            X[i] = np.bitwise_or(X[i], (unique_features == ingredient).astype(int))\n",
    "    print(\"features: \", len(X), \" \", len(X[0]))\n",
    "    if targets != None:\n",
    "        print(\"labels: \", len(labels), \" \", len(labels[0]))\n",
    "    \n",
    "    if targets != None:\n",
    "        return X,labels\n",
    "    return X"
   ]
  },
  {
   "cell_type": "code",
   "execution_count": 14,
   "metadata": {},
   "outputs": [
    {
     "name": "stdout",
     "output_type": "stream",
     "text": [
      "features:  39774   6714\n",
      "labels:  39774   20\n",
      "features:  9944   6714\n"
     ]
    }
   ],
   "source": [
    "X_train, y_train = MLify(train_data, train_labels)\n",
    "X_test = MLify(test_data)"
   ]
  },
  {
   "cell_type": "code",
   "execution_count": 15,
   "metadata": {},
   "outputs": [
    {
     "name": "stdout",
     "output_type": "stream",
     "text": [
      "\n",
      "\n",
      "Number of ingredients on list must match number on second print\n",
      "{'id': 0,\n",
      " 'ingredients': ['mussels',\n",
      "                 'ground black pepper',\n",
      "                 'garlic cloves',\n",
      "                 'saffron threads',\n",
      "                 'olive oil',\n",
      "                 'stewed tomatoes',\n",
      "                 'arborio rice',\n",
      "                 'minced onion',\n",
      "                 'medium shrimp',\n",
      "                 'fat free less sodium chicken broth',\n",
      "                 'green peas']}\n",
      "11\n",
      "\n",
      "\n",
      "Both labels bellow must match\n",
      "spanish\n",
      "spanish\n"
     ]
    }
   ],
   "source": [
    "# test to check if X_train and y_train were assembled correctly\n",
    "print(\"\\n\\nNumber of ingredients on list must match number on second print\")\n",
    "pp.pprint(train_data[0])\n",
    "print(np.sum(X_train[0]))\n",
    "\n",
    "print(\"\\n\\nBoth labels bellow must match\")\n",
    "print(train_labels[0])\n",
    "print(unique_labels[np.argmax(y_train[0])])"
   ]
  },
  {
   "cell_type": "code",
   "execution_count": 16,
   "metadata": {},
   "outputs": [
    {
     "name": "stdout",
     "output_type": "stream",
     "text": [
      "GaussianNB accuracy: 0.38039925579524314\n",
      "BernoulliNB accuracy: 0.6829587167496354\n"
     ]
    }
   ],
   "source": [
    "# PROGRAMMING EXERCISES: 2d\n",
    "from sklearn import model_selection\n",
    "from sklearn.naive_bayes import GaussianNB\n",
    "from sklearn.naive_bayes import BernoulliNB\n",
    "\n",
    "kfold = model_selection.KFold(n_splits=3)\n",
    "\n",
    "cv_results = model_selection.cross_val_score(GaussianNB(), X_train, train_labels, cv=kfold)\n",
    "print('GaussianNB accuracy: {}'.format(cv_results.mean()))\n",
    "\n",
    "cv_results = model_selection.cross_val_score(BernoulliNB(), X_train, train_labels, cv=kfold)\n",
    "print('BernoulliNB accuracy: {}'.format(cv_results.mean()))"
   ]
  },
  {
   "cell_type": "code",
   "execution_count": 9,
   "metadata": {},
   "outputs": [
    {
     "name": "stdout",
     "output_type": "stream",
     "text": [
      "LogisticRegression accuracy: 0.7751294815708755\n"
     ]
    }
   ],
   "source": [
    "# PROGRAMMING EXERCISES: 2f\n",
    "from sklearn.linear_model import LogisticRegression\n",
    "\n",
    "cv_results = model_selection.cross_val_score(LogisticRegression(), X_train, train_labels, cv=kfold)\n",
    "print('LogisticRegression accuracy: {}'.format(cv_results.mean()))"
   ]
  },
  {
   "cell_type": "code",
   "execution_count": 17,
   "metadata": {},
   "outputs": [],
   "source": [
    "test_id = []\n",
    "\n",
    "for i in range(len(test_data)):\n",
    "    test_id.append(test_data[i][\"id\"])"
   ]
  },
  {
   "cell_type": "code",
   "execution_count": 27,
   "metadata": {},
   "outputs": [],
   "source": [
    "# PROGRAMMING EXERCISES: 2g\n",
    "import pandas as pd\n",
    "from collections import OrderedDict\n",
    "\n",
    "logistic = LogisticRegression()\n",
    "logistic.fit(X_train, train_labels)\n",
    "logistic_prediction = logistic.predict(X_test)\n",
    "\n",
    "d = pd.DataFrame(data=OrderedDict([('id', test_id), ('cuisine', logistic_prediction)]))\n",
    "d.to_csv('submission_whats_cooking.csv', index=False)"
   ]
  },
  {
   "cell_type": "markdown",
   "metadata": {},
   "source": [
    "# References\n",
    "* https://docs.scipy.org/doc/numpy/\n",
    "* https://docs.python.org/3/\n",
    "* http://scikit-learn.org/stable/\n",
    "* https://matplotlib.org/api/\n",
    "* https://www.youtube.com/watch?v=IdsV0RaC9jM\n",
    "* https://www.youtube.com/watch?v=mBcLRGuAFUk"
   ]
  }
 ],
 "metadata": {
  "kernelspec": {
   "display_name": "Python 3",
   "language": "python",
   "name": "python3"
  },
  "language_info": {
   "codemirror_mode": {
    "name": "ipython",
    "version": 3
   },
   "file_extension": ".py",
   "mimetype": "text/x-python",
   "name": "python",
   "nbconvert_exporter": "python",
   "pygments_lexer": "ipython3",
   "version": "3.6.5"
  }
 },
 "nbformat": 4,
 "nbformat_minor": 2
}
